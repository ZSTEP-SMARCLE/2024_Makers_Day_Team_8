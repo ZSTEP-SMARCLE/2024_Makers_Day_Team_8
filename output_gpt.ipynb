{
 "cells": [
  {
   "cell_type": "markdown",
   "id": "f9ff53db",
   "metadata": {
    "id": "OsNbs15ZQUCH",
    "papermill": {
     "duration": 0.004483,
     "end_time": "2024-07-22T00:02:10.184473",
     "exception": false,
     "start_time": "2024-07-22T00:02:10.179990",
     "status": "completed"
    },
    "tags": []
   },
   "source": [
    "md"
   ]
  },
  {
   "cell_type": "code",
   "execution_count": 1,
   "id": "d1c83af2",
   "metadata": {
    "execution": {
     "iopub.execute_input": "2024-07-22T00:02:10.191121Z",
     "iopub.status.busy": "2024-07-22T00:02:10.189853Z",
     "iopub.status.idle": "2024-07-22T00:02:10.196421Z",
     "shell.execute_reply": "2024-07-22T00:02:10.196421Z"
    },
    "papermill": {
     "duration": 0.009578,
     "end_time": "2024-07-22T00:02:10.197429",
     "exception": false,
     "start_time": "2024-07-22T00:02:10.187851",
     "status": "completed"
    },
    "tags": [
     "parameters"
    ]
   },
   "outputs": [],
   "source": [
    "# parameters\n",
    "input_string = \"\""
   ]
  },
  {
   "cell_type": "code",
   "execution_count": 2,
   "id": "97917c99",
   "metadata": {
    "execution": {
     "iopub.execute_input": "2024-07-22T00:02:10.206603Z",
     "iopub.status.busy": "2024-07-22T00:02:10.205604Z",
     "iopub.status.idle": "2024-07-22T00:02:10.208980Z",
     "shell.execute_reply": "2024-07-22T00:02:10.208980Z"
    },
    "papermill": {
     "duration": 0.0094,
     "end_time": "2024-07-22T00:02:10.209990",
     "exception": false,
     "start_time": "2024-07-22T00:02:10.200590",
     "status": "completed"
    },
    "tags": [
     "injected-parameters"
    ]
   },
   "outputs": [],
   "source": [
    "# Parameters\n",
    "input_string = \"\\uc2dc\\uac01\\uc7a5\\uc560\\uc778\\uc744 \\uc704\\ud55c \\uc720\\ud29c\\ube0c \\ucd94\\ucc9c \\uc601\\uc0c1\\uc744 \\ucd94\\ucc9c\\ud574\\uc11c \\ub9c1\\ud06c\\ub97c \\uac19\\uc774 \\ucca8\\ubd80\\ud574\\uc918\"\n"
   ]
  },
  {
   "cell_type": "code",
   "execution_count": 3,
   "id": "3c4e5b20",
   "metadata": {
    "colab": {
     "base_uri": "https://localhost:8080/"
    },
    "collapsed": true,
    "execution": {
     "iopub.execute_input": "2024-07-22T00:02:10.215450Z",
     "iopub.status.busy": "2024-07-22T00:02:10.215450Z",
     "iopub.status.idle": "2024-07-22T00:02:11.429226Z",
     "shell.execute_reply": "2024-07-22T00:02:11.429226Z"
    },
    "id": "Sy-pQUwBd0gc",
    "outputId": "32517a66-3947-4704-8629-5c05ea5e5e46",
    "papermill": {
     "duration": 1.21825,
     "end_time": "2024-07-22T00:02:11.430243",
     "exception": false,
     "start_time": "2024-07-22T00:02:10.211993",
     "status": "completed"
    },
    "tags": []
   },
   "outputs": [
    {
     "name": "stdout",
     "output_type": "stream",
     "text": [
      "Requirement already satisfied: openai in c:\\users\\zstep\\onedrive\\문서\\weail1\\venv\\lib\\site-packages (1.36.1)\n",
      "Requirement already satisfied: anyio<5,>=3.5.0 in c:\\users\\zstep\\onedrive\\문서\\weail1\\venv\\lib\\site-packages (from openai) (4.4.0)\n",
      "Requirement already satisfied: distro<2,>=1.7.0 in c:\\users\\zstep\\onedrive\\문서\\weail1\\venv\\lib\\site-packages (from openai) (1.9.0)\n",
      "Requirement already satisfied: httpx<1,>=0.23.0 in c:\\users\\zstep\\onedrive\\문서\\weail1\\venv\\lib\\site-packages (from openai) (0.27.0)\n",
      "Requirement already satisfied: pydantic<3,>=1.9.0 in c:\\users\\zstep\\onedrive\\문서\\weail1\\venv\\lib\\site-packages (from openai) (2.8.2)\n",
      "Requirement already satisfied: sniffio in c:\\users\\zstep\\onedrive\\문서\\weail1\\venv\\lib\\site-packages (from openai) (1.3.1)\n",
      "Requirement already satisfied: tqdm>4 in c:\\users\\zstep\\onedrive\\문서\\weail1\\venv\\lib\\site-packages (from openai) (4.66.4)\n",
      "Requirement already satisfied: typing-extensions<5,>=4.7 in c:\\users\\zstep\\onedrive\\문서\\weail1\\venv\\lib\\site-packages (from openai) (4.12.2)\n",
      "Requirement already satisfied: idna>=2.8 in c:\\users\\zstep\\onedrive\\문서\\weail1\\venv\\lib\\site-packages (from anyio<5,>=3.5.0->openai) (3.7)\n",
      "Requirement already satisfied: certifi in c:\\users\\zstep\\onedrive\\문서\\weail1\\venv\\lib\\site-packages (from httpx<1,>=0.23.0->openai) (2024.7.4)\n",
      "Requirement already satisfied: httpcore==1.* in c:\\users\\zstep\\onedrive\\문서\\weail1\\venv\\lib\\site-packages (from httpx<1,>=0.23.0->openai) (1.0.5)\n",
      "Requirement already satisfied: h11<0.15,>=0.13 in c:\\users\\zstep\\onedrive\\문서\\weail1\\venv\\lib\\site-packages (from httpcore==1.*->httpx<1,>=0.23.0->openai) (0.14.0)\n",
      "Requirement already satisfied: annotated-types>=0.4.0 in c:\\users\\zstep\\onedrive\\문서\\weail1\\venv\\lib\\site-packages (from pydantic<3,>=1.9.0->openai) (0.7.0)\n",
      "Requirement already satisfied: pydantic-core==2.20.1 in c:\\users\\zstep\\onedrive\\문서\\weail1\\venv\\lib\\site-packages (from pydantic<3,>=1.9.0->openai) (2.20.1)\n",
      "Requirement already satisfied: colorama in c:\\users\\zstep\\onedrive\\문서\\weail1\\venv\\lib\\site-packages (from tqdm>4->openai) (0.4.6)\n",
      "Note: you may need to restart the kernel to use updated packages.\n"
     ]
    },
    {
     "name": "stderr",
     "output_type": "stream",
     "text": [
      "\n",
      "[notice] A new release of pip is available: 24.0 -> 24.1.2\n",
      "[notice] To update, run: python.exe -m pip install --upgrade pip\n"
     ]
    }
   ],
   "source": [
    "pip install openai"
   ]
  },
  {
   "cell_type": "code",
   "execution_count": 4,
   "id": "4f0d0780",
   "metadata": {
    "execution": {
     "iopub.execute_input": "2024-07-22T00:02:11.440254Z",
     "iopub.status.busy": "2024-07-22T00:02:11.440254Z",
     "iopub.status.idle": "2024-07-22T00:02:12.063063Z",
     "shell.execute_reply": "2024-07-22T00:02:12.063063Z"
    },
    "id": "c1I9GFUGd0d2",
    "papermill": {
     "duration": 0.629955,
     "end_time": "2024-07-22T00:02:12.064193",
     "exception": false,
     "start_time": "2024-07-22T00:02:11.434238",
     "status": "completed"
    },
    "tags": []
   },
   "outputs": [],
   "source": [
    "from openai import OpenAI\n",
    "\n",
    "client = OpenAI(api_key=\"\")"
   ]
  },
  {
   "cell_type": "code",
   "execution_count": 5,
   "id": "a70e1768",
   "metadata": {
    "execution": {
     "iopub.execute_input": "2024-07-22T00:02:12.071555Z",
     "iopub.status.busy": "2024-07-22T00:02:12.071555Z",
     "iopub.status.idle": "2024-07-22T00:02:12.074523Z",
     "shell.execute_reply": "2024-07-22T00:02:12.074523Z"
    },
    "id": "VIuH-s0cd0ba",
    "papermill": {
     "duration": 0.007337,
     "end_time": "2024-07-22T00:02:12.075536",
     "exception": false,
     "start_time": "2024-07-22T00:02:12.068199",
     "status": "completed"
    },
    "tags": []
   },
   "outputs": [],
   "source": [
    "messages = [\n",
    "    {\"role\": \"system\", \"content\": \"당신은 유튜브 콘텐츠 추천 담당자입니다. 항상 친절하게 손님들을 대합니다. 손님은 대부분 장애인 혹은 그와 관련된 사람입니다. 당신에게 질문을 한다면, 그 질문에 대한 유튜브 추천 영상을 추천해서 링크를 띄어쓰기로 구분해 같이 첨부해주면 됩니다.\"}\n",
    "]"
   ]
  },
  {
   "cell_type": "code",
   "execution_count": 6,
   "id": "a724dd3a",
   "metadata": {
    "execution": {
     "iopub.execute_input": "2024-07-22T00:02:12.082079Z",
     "iopub.status.busy": "2024-07-22T00:02:12.082079Z",
     "iopub.status.idle": "2024-07-22T00:02:12.499884Z",
     "shell.execute_reply": "2024-07-22T00:02:12.499884Z"
    },
    "id": "43bX8Wn9d0Yz",
    "papermill": {
     "duration": 0.423122,
     "end_time": "2024-07-22T00:02:12.501908",
     "exception": false,
     "start_time": "2024-07-22T00:02:12.078786",
     "status": "completed"
    },
    "tags": []
   },
   "outputs": [],
   "source": [
    "model = \"gpt-4o\"\n",
    "\n",
    "stream = client.chat.completions.create(\n",
    "    model=model,\n",
    "    messages=messages,\n",
    "    stream=True,\n",
    ")"
   ]
  },
  {
   "cell_type": "code",
   "execution_count": 7,
   "id": "4ffd3a16",
   "metadata": {
    "colab": {
     "base_uri": "https://localhost:8080/"
    },
    "execution": {
     "iopub.execute_input": "2024-07-22T00:02:12.511894Z",
     "iopub.status.busy": "2024-07-22T00:02:12.510891Z",
     "iopub.status.idle": "2024-07-22T00:02:13.278158Z",
     "shell.execute_reply": "2024-07-22T00:02:13.278158Z"
    },
    "id": "drcNPfJneIQ9",
    "outputId": "4591df35-4e80-4f9d-b6b0-91a05e4e845d",
    "papermill": {
     "duration": 0.773279,
     "end_time": "2024-07-22T00:02:13.279170",
     "exception": false,
     "start_time": "2024-07-22T00:02:12.505891",
     "status": "completed"
    },
    "tags": []
   },
   "outputs": [
    {
     "name": "stdout",
     "output_type": "stream",
     "text": [
      "안녕하세요! 유튜브 콘텐츠 추천 도우미입니다. 도움이 필요하신 콘텐츠가"
     ]
    },
    {
     "name": "stdout",
     "output_type": "stream",
     "text": [
      " 있다면 어떤 종류의 영"
     ]
    },
    {
     "name": "stdout",
     "output_type": "stream",
     "text": [
      "상을 찾고 계신지 말씀해 주세요. 최선을 다해 적절한 영상을 찾아드리겠습니다. 😊"
     ]
    }
   ],
   "source": [
    "for chunk in stream:\n",
    "    if chunk.choices[0].delta.content is not None:\n",
    "        print(chunk.choices[0].delta.content, end=\"\")"
   ]
  },
  {
   "cell_type": "code",
   "execution_count": 8,
   "id": "7a612d3b",
   "metadata": {
    "execution": {
     "iopub.execute_input": "2024-07-22T00:02:13.291581Z",
     "iopub.status.busy": "2024-07-22T00:02:13.291581Z",
     "iopub.status.idle": "2024-07-22T00:02:13.295557Z",
     "shell.execute_reply": "2024-07-22T00:02:13.295557Z"
    },
    "id": "vvGKQJC7eIH0",
    "papermill": {
     "duration": 0.012417,
     "end_time": "2024-07-22T00:02:13.296584",
     "exception": false,
     "start_time": "2024-07-22T00:02:13.284167",
     "status": "completed"
    },
    "tags": []
   },
   "outputs": [],
   "source": [
    "class GptAPI():\n",
    "    def __init__(self, model, client):\n",
    "        self.messages = []\n",
    "        self.model = model\n",
    "        self.client = client\n",
    "\n",
    "    def get_message(self, prompt):\n",
    "        self.messages.append({\"role\": \"user\", \"content\": prompt})\n",
    "\n",
    "        stream = self.client.chat.completions.create(\n",
    "            model=self.model,\n",
    "            messages=self.messages,\n",
    "            stream=True,\n",
    "        )\n",
    "\n",
    "        result = ''\n",
    "        for chunk in stream:\n",
    "            if chunk.choices[0].delta.content is not None:\n",
    "                string = chunk.choices[0].delta.content\n",
    "                print(string, end=\"\")\n",
    "                result = ''.join([result, string])\n",
    "\n",
    "        self.messages.append({\"role\": \"system\", \"content\": result})\n",
    "        return result"
   ]
  },
  {
   "cell_type": "code",
   "execution_count": 9,
   "id": "73b35901",
   "metadata": {
    "execution": {
     "iopub.execute_input": "2024-07-22T00:02:13.304570Z",
     "iopub.status.busy": "2024-07-22T00:02:13.303570Z",
     "iopub.status.idle": "2024-07-22T00:02:13.307474Z",
     "shell.execute_reply": "2024-07-22T00:02:13.307474Z"
    },
    "id": "hmyWoAz2d0P8",
    "papermill": {
     "duration": 0.007918,
     "end_time": "2024-07-22T00:02:13.308489",
     "exception": false,
     "start_time": "2024-07-22T00:02:13.300571",
     "status": "completed"
    },
    "tags": []
   },
   "outputs": [],
   "source": [
    "model = \"gpt-4o\"\n",
    "gpt = GptAPI(model, client)"
   ]
  },
  {
   "cell_type": "code",
   "execution_count": 10,
   "id": "6dbb9a80",
   "metadata": {
    "colab": {
     "base_uri": "https://localhost:8080/"
    },
    "execution": {
     "iopub.execute_input": "2024-07-22T00:02:13.315830Z",
     "iopub.status.busy": "2024-07-22T00:02:13.315830Z",
     "iopub.status.idle": "2024-07-22T00:02:13.940022Z",
     "shell.execute_reply": "2024-07-22T00:02:13.940022Z"
    },
    "id": "plNl6sMoeQdD",
    "outputId": "b768b768-8cd1-4c1e-8851-58cbd95f6532",
    "papermill": {
     "duration": 0.631542,
     "end_time": "2024-07-22T00:02:13.943028",
     "exception": false,
     "start_time": "2024-07-22T00:02:13.311486",
     "status": "completed"
    },
    "tags": []
   },
   "outputs": [
    {
     "name": "stdout",
     "output_type": "stream",
     "text": [
      "저도 만나서 반가워요! 어떻게 도와드릴까요?"
     ]
    },
    {
     "data": {
      "text/plain": [
       "'저도 만나서 반가워요! 어떻게 도와드릴까요?'"
      ]
     },
     "execution_count": 10,
     "metadata": {},
     "output_type": "execute_result"
    }
   ],
   "source": [
    "text = '만나서 반가워!'\n",
    "\n",
    "gpt.get_message(text)"
   ]
  },
  {
   "cell_type": "code",
   "execution_count": 11,
   "id": "9fcc8907",
   "metadata": {
    "colab": {
     "base_uri": "https://localhost:8080/"
    },
    "execution": {
     "iopub.execute_input": "2024-07-22T00:02:13.956546Z",
     "iopub.status.busy": "2024-07-22T00:02:13.955542Z",
     "iopub.status.idle": "2024-07-22T00:02:13.960767Z",
     "shell.execute_reply": "2024-07-22T00:02:13.960767Z"
    },
    "id": "DxXQBhbTeY5D",
    "outputId": "fc0ee771-5f72-4104-ce49-2cf45eff59af",
    "papermill": {
     "duration": 0.012233,
     "end_time": "2024-07-22T00:02:13.961774",
     "exception": false,
     "start_time": "2024-07-22T00:02:13.949541",
     "status": "completed"
    },
    "tags": []
   },
   "outputs": [
    {
     "data": {
      "text/plain": [
       "[{'role': 'user', 'content': '만나서 반가워!'},\n",
       " {'role': 'system', 'content': '저도 만나서 반가워요! 어떻게 도와드릴까요?'}]"
      ]
     },
     "execution_count": 11,
     "metadata": {},
     "output_type": "execute_result"
    }
   ],
   "source": [
    "gpt.messages"
   ]
  },
  {
   "cell_type": "code",
   "execution_count": 12,
   "id": "b2b22f4b",
   "metadata": {
    "colab": {
     "base_uri": "https://localhost:8080/"
    },
    "execution": {
     "iopub.execute_input": "2024-07-22T00:02:13.972926Z",
     "iopub.status.busy": "2024-07-22T00:02:13.971920Z",
     "iopub.status.idle": "2024-07-22T00:02:18.736010Z",
     "shell.execute_reply": "2024-07-22T00:02:18.736010Z"
    },
    "id": "fQQgFJv0e0AL",
    "outputId": "3b52b5f2-d26d-4586-d5db-8e528f1dd8b9",
    "papermill": {
     "duration": 4.773154,
     "end_time": "2024-07-22T00:02:18.738023",
     "exception": false,
     "start_time": "2024-07-22T00:02:13.964869",
     "status": "completed"
    },
    "tags": []
   },
   "outputs": [
    {
     "name": "stdout",
     "output_type": "stream",
     "text": [
      "물론입니다! 아래는 시각장애인을 위한 유용한 유튜"
     ]
    },
    {
     "name": "stdout",
     "output_type": "stream",
     "text": [
      "브 채널과 그 중 몇 가지 추천 영상입니다:\n",
      "\n",
      "1. **\"Eyes-Free Fitness\""
     ]
    },
    {
     "name": "stdout",
     "output_type": "stream",
     "text": [
      "**\n",
      "   - **소개**: 이 채널은 시각장애인을 위한 맞춤 운동"
     ]
    },
    {
     "name": "stdout",
     "output_type": "stream",
     "text": [
      " 영상들을 제공합니다. 설명이 자세하고, 운동 과정을 시각적 자료 없이도 쉽게 따라"
     ]
    },
    {
     "name": "stdout",
     "output_type": "stream",
     "text": [
      "할 수 있습니다.\n",
      "   - **추천 영상**: [지속적인 전신 운동"
     ]
    },
    {
     "name": "stdout",
     "output_type": "stream",
     "text": [
      " (Full Body Workout for the Blind/Visually Impaired)](https://"
     ]
    },
    {
     "name": "stdout",
     "output_type": "stream",
     "text": [
      "www.youtube.com/watch?v=9VirVx7lJhY)\n",
      "\n",
      "2. **\"The Blind Life\"**\n",
      "  "
     ]
    },
    {
     "name": "stdout",
     "output_type": "stream",
     "text": [
      " - **소개**: 이 채널은 시각장애인 생활을 다루며,"
     ]
    },
    {
     "name": "stdout",
     "output_type": "stream",
     "text": [
      " 기술 리뷰, 생활 팁, 인터뷰 등의 콘텐츠를 포함합니다.\n",
      "   - **추천"
     ]
    },
    {
     "name": "stdout",
     "output_type": "stream",
     "text": [
      " 영상**: [시각장애인을 위한 10가지 필수 앱 (10 Essential Apps"
     ]
    },
    {
     "name": "stdout",
     "output_type": "stream",
     "text": [
      " for the Blind and Visually Impaired)](https://www.youtube.com/watch?v=Nu_x"
     ]
    },
    {
     "name": "stdout",
     "output_type": "stream",
     "text": [
      "a5We5eY)\n",
      "\n",
      "3"
     ]
    },
    {
     "name": "stdout",
     "output_type": "stream",
     "text": [
      ". **\"Tommy Edison\"**\n",
      "   - **소개**: Tommy Edison은 시각장"
     ]
    },
    {
     "name": "stdout",
     "output_type": "stream",
     "text": [
      "애인으로서의 삶을 유쾌하고 솔직하게 소개하며, 그가"
     ]
    },
    {
     "name": "stdout",
     "output_type": "stream",
     "text": [
      " 겪는 일상적인 경험을 공유합니다.\n",
      "   - **추천 영상**: [Tommy"
     ]
    },
    {
     "name": "stdout",
     "output_type": "stream",
     "text": [
      "의 시각장애인으로서 영화 감상 (How Blind People Enjoy"
     ]
    },
    {
     "name": "stdout",
     "output_type": "stream",
     "text": [
      " Movies)](https://www.youtube.com/watch?v=qLziFMF4DHA)\n",
      "\n",
      "이 외"
     ]
    },
    {
     "name": "stdout",
     "output_type": "stream",
     "text": [
      "에도 시각장애인을 위한 다양한 유용한 정보와 콘텐츠"
     ]
    },
    {
     "name": "stdout",
     "output_type": "stream",
     "text": [
      "를 제공하는 채널들이 많이 있습니다. 필요하신 정보나 주제에 따라 추가적으로 더 추천"
     ]
    },
    {
     "name": "stdout",
     "output_type": "stream",
     "text": [
      "드릴 수 있습니다. 도움이 되셨기를 바랍니다!"
     ]
    }
   ],
   "source": [
    "text = '시각장애인을 위한 유튜브 추천 영상을 추천해서 링크를 같이 첨부해줘' # 질문을 입력하세요\n",
    "output_string = gpt.get_message(input_string)"
   ]
  },
  {
   "cell_type": "code",
   "execution_count": 13,
   "id": "ef858eb5",
   "metadata": {
    "execution": {
     "iopub.execute_input": "2024-07-22T00:02:18.752434Z",
     "iopub.status.busy": "2024-07-22T00:02:18.751424Z",
     "iopub.status.idle": "2024-07-22T00:02:18.756950Z",
     "shell.execute_reply": "2024-07-22T00:02:18.756950Z"
    },
    "id": "X_8Vvyf7uoq8",
    "papermill": {
     "duration": 0.012558,
     "end_time": "2024-07-22T00:02:18.758963",
     "exception": false,
     "start_time": "2024-07-22T00:02:18.746405",
     "status": "completed"
    },
    "tags": []
   },
   "outputs": [
    {
     "data": {
      "text/plain": [
       "'물론입니다! 아래는 시각장애인을 위한 유용한 유튜브 채널과 그 중 몇 가지 추천 영상입니다:\\n\\n1. **\"Eyes-Free Fitness\"**\\n   - **소개**: 이 채널은 시각장애인을 위한 맞춤 운동 영상들을 제공합니다. 설명이 자세하고, 운동 과정을 시각적 자료 없이도 쉽게 따라할 수 있습니다.\\n   - **추천 영상**: [지속적인 전신 운동 (Full Body Workout for the Blind/Visually Impaired)](https://www.youtube.com/watch?v=9VirVx7lJhY)\\n\\n2. **\"The Blind Life\"**\\n   - **소개**: 이 채널은 시각장애인 생활을 다루며, 기술 리뷰, 생활 팁, 인터뷰 등의 콘텐츠를 포함합니다.\\n   - **추천 영상**: [시각장애인을 위한 10가지 필수 앱 (10 Essential Apps for the Blind and Visually Impaired)](https://www.youtube.com/watch?v=Nu_xa5We5eY)\\n\\n3. **\"Tommy Edison\"**\\n   - **소개**: Tommy Edison은 시각장애인으로서의 삶을 유쾌하고 솔직하게 소개하며, 그가 겪는 일상적인 경험을 공유합니다.\\n   - **추천 영상**: [Tommy의 시각장애인으로서 영화 감상 (How Blind People Enjoy Movies)](https://www.youtube.com/watch?v=qLziFMF4DHA)\\n\\n이 외에도 시각장애인을 위한 다양한 유용한 정보와 콘텐츠를 제공하는 채널들이 많이 있습니다. 필요하신 정보나 주제에 따라 추가적으로 더 추천드릴 수 있습니다. 도움이 되셨기를 바랍니다!'"
      ]
     },
     "execution_count": 13,
     "metadata": {},
     "output_type": "execute_result"
    }
   ],
   "source": [
    "output_string"
   ]
  },
  {
   "cell_type": "code",
   "execution_count": 14,
   "id": "de4f20a6",
   "metadata": {
    "execution": {
     "iopub.execute_input": "2024-07-22T00:02:18.773963Z",
     "iopub.status.busy": "2024-07-22T00:02:18.773963Z",
     "iopub.status.idle": "2024-07-22T00:02:18.780579Z",
     "shell.execute_reply": "2024-07-22T00:02:18.779564Z"
    },
    "papermill": {
     "duration": 0.016607,
     "end_time": "2024-07-22T00:02:18.782575",
     "exception": false,
     "start_time": "2024-07-22T00:02:18.765968",
     "status": "completed"
    },
    "tags": []
   },
   "outputs": [],
   "source": [
    "with open('output.txt', 'w') as file:\n",
    "    file.write(output_string)"
   ]
  }
 ],
 "metadata": {
  "colab": {
   "provenance": [],
   "toc_visible": true
  },
  "kernelspec": {
   "display_name": "Python 3",
   "name": "python3"
  },
  "language_info": {
   "codemirror_mode": {
    "name": "ipython",
    "version": 3
   },
   "file_extension": ".py",
   "mimetype": "text/x-python",
   "name": "python",
   "nbconvert_exporter": "python",
   "pygments_lexer": "ipython3",
   "version": "3.11.9"
  },
  "papermill": {
   "default_parameters": {},
   "duration": 10.394239,
   "end_time": "2024-07-22T00:02:19.245402",
   "environment_variables": {},
   "exception": null,
   "input_path": "WeaIl_gpt.ipynb",
   "output_path": "output_gpt.ipynb",
   "parameters": {
    "input_string": "시각장애인을 위한 유튜브 추천 영상을 추천해서 링크를 같이 첨부해줘"
   },
   "start_time": "2024-07-22T00:02:08.851163",
   "version": "2.6.0"
  }
 },
 "nbformat": 4,
 "nbformat_minor": 5
}
