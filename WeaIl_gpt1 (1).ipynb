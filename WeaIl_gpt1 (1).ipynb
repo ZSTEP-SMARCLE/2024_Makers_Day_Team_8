{
  "nbformat": 4,
  "nbformat_minor": 0,
  "metadata": {
    "colab": {
      "provenance": [],
      "toc_visible": true
    },
    "kernelspec": {
      "name": "python3",
      "display_name": "Python 3"
    },
    "language_info": {
      "name": "python"
    }
  },
  "cells": [
    {
      "cell_type": "markdown",
      "source": [],
      "metadata": {
        "id": "OsNbs15ZQUCH"
      }
    },
    {
      "cell_type": "code",
      "source": [
        "pip install openai"
      ],
      "metadata": {
        "colab": {
          "base_uri": "https://localhost:8080/"
        },
        "id": "Sy-pQUwBd0gc",
        "outputId": "32517a66-3947-4704-8629-5c05ea5e5e46",
        "collapsed": true
      },
      "execution_count": null,
      "outputs": [
        {
          "output_type": "stream",
          "name": "stdout",
          "text": [
            "Collecting openai\n",
            "  Downloading openai-1.35.14-py3-none-any.whl (328 kB)\n",
            "\u001b[2K     \u001b[90m━━━━━━━━━━━━━━━━━━━━━━━━━━━━━━━━━━━━━━━━\u001b[0m \u001b[32m328.5/328.5 kB\u001b[0m \u001b[31m3.7 MB/s\u001b[0m eta \u001b[36m0:00:00\u001b[0m\n",
            "\u001b[?25hRequirement already satisfied: anyio<5,>=3.5.0 in /usr/local/lib/python3.10/dist-packages (from openai) (3.7.1)\n",
            "Requirement already satisfied: distro<2,>=1.7.0 in /usr/lib/python3/dist-packages (from openai) (1.7.0)\n",
            "Collecting httpx<1,>=0.23.0 (from openai)\n",
            "  Downloading httpx-0.27.0-py3-none-any.whl (75 kB)\n",
            "\u001b[2K     \u001b[90m━━━━━━━━━━━━━━━━━━━━━━━━━━━━━━━━━━━━━━━━\u001b[0m \u001b[32m75.6/75.6 kB\u001b[0m \u001b[31m5.9 MB/s\u001b[0m eta \u001b[36m0:00:00\u001b[0m\n",
            "\u001b[?25hRequirement already satisfied: pydantic<3,>=1.9.0 in /usr/local/lib/python3.10/dist-packages (from openai) (2.8.2)\n",
            "Requirement already satisfied: sniffio in /usr/local/lib/python3.10/dist-packages (from openai) (1.3.1)\n",
            "Requirement already satisfied: tqdm>4 in /usr/local/lib/python3.10/dist-packages (from openai) (4.66.4)\n",
            "Requirement already satisfied: typing-extensions<5,>=4.7 in /usr/local/lib/python3.10/dist-packages (from openai) (4.12.2)\n",
            "Requirement already satisfied: idna>=2.8 in /usr/local/lib/python3.10/dist-packages (from anyio<5,>=3.5.0->openai) (3.7)\n",
            "Requirement already satisfied: exceptiongroup in /usr/local/lib/python3.10/dist-packages (from anyio<5,>=3.5.0->openai) (1.2.2)\n",
            "Requirement already satisfied: certifi in /usr/local/lib/python3.10/dist-packages (from httpx<1,>=0.23.0->openai) (2024.7.4)\n",
            "Collecting httpcore==1.* (from httpx<1,>=0.23.0->openai)\n",
            "  Downloading httpcore-1.0.5-py3-none-any.whl (77 kB)\n",
            "\u001b[2K     \u001b[90m━━━━━━━━━━━━━━━━━━━━━━━━━━━━━━━━━━━━━━━━\u001b[0m \u001b[32m77.9/77.9 kB\u001b[0m \u001b[31m5.6 MB/s\u001b[0m eta \u001b[36m0:00:00\u001b[0m\n",
            "\u001b[?25hCollecting h11<0.15,>=0.13 (from httpcore==1.*->httpx<1,>=0.23.0->openai)\n",
            "  Downloading h11-0.14.0-py3-none-any.whl (58 kB)\n",
            "\u001b[2K     \u001b[90m━━━━━━━━━━━━━━━━━━━━━━━━━━━━━━━━━━━━━━━━\u001b[0m \u001b[32m58.3/58.3 kB\u001b[0m \u001b[31m4.7 MB/s\u001b[0m eta \u001b[36m0:00:00\u001b[0m\n",
            "\u001b[?25hRequirement already satisfied: annotated-types>=0.4.0 in /usr/local/lib/python3.10/dist-packages (from pydantic<3,>=1.9.0->openai) (0.7.0)\n",
            "Requirement already satisfied: pydantic-core==2.20.1 in /usr/local/lib/python3.10/dist-packages (from pydantic<3,>=1.9.0->openai) (2.20.1)\n",
            "Installing collected packages: h11, httpcore, httpx, openai\n",
            "Successfully installed h11-0.14.0 httpcore-1.0.5 httpx-0.27.0 openai-1.35.14\n"
          ]
        }
      ]
    },
    {
      "cell_type": "code",
      "source": [
        "from openai import OpenAI\n",
        "\n",
        "client = OpenAI(api_key=\"\")"
      ],
      "metadata": {
        "id": "c1I9GFUGd0d2"
      },
      "execution_count": null,
      "outputs": []
    },
    {
      "cell_type": "code",
      "source": [
        "messages = [\n",
        "    {\"role\": \"system\", \"content\": \"당신은 유튜브 콘텐츠 추천 담당자입니다. 항상 친절하게 손님들을 대합니다. 손님은 대부분 장애인 혹은 그와 관련된 사람입니다. 당신에게 질문을 한다면, 그 질문에 대한 유튜브 추천 영상을 추천해서 링크를 같이 첨부해주면 됩니다.\"}\n",
        "]"
      ],
      "metadata": {
        "id": "VIuH-s0cd0ba"
      },
      "execution_count": null,
      "outputs": []
    },
    {
      "cell_type": "code",
      "source": [
        "model = \"gpt-4o\"\n",
        "\n",
        "stream = client.chat.completions.create(\n",
        "    model=model,\n",
        "    messages=messages,\n",
        "    stream=True,\n",
        ")"
      ],
      "metadata": {
        "id": "43bX8Wn9d0Yz"
      },
      "execution_count": null,
      "outputs": []
    },
    {
      "cell_type": "code",
      "source": [
        "for chunk in stream:\n",
        "    if chunk.choices[0].delta.content is not None:\n",
        "        print(chunk.choices[0].delta.content, end=\"\")"
      ],
      "metadata": {
        "colab": {
          "base_uri": "https://localhost:8080/"
        },
        "id": "drcNPfJneIQ9",
        "outputId": "4591df35-4e80-4f9d-b6b0-91a05e4e845d"
      },
      "execution_count": null,
      "outputs": [
        {
          "output_type": "stream",
          "name": "stdout",
          "text": [
            "안녕하세요! 만나서 반가워요. 무엇을 도와드릴까요?"
          ]
        }
      ]
    },
    {
      "cell_type": "code",
      "source": [
        "class GptAPI():\n",
        "    def __init__(self, model, client):\n",
        "        self.messages = []\n",
        "        self.model = model\n",
        "        self.client = client\n",
        "\n",
        "    def get_message(self, prompt):\n",
        "        self.messages.append({\"role\": \"user\", \"content\": prompt})\n",
        "\n",
        "        stream = self.client.chat.completions.create(\n",
        "            model=self.model,\n",
        "            messages=self.messages,\n",
        "            stream=True,\n",
        "        )\n",
        "\n",
        "        result = ''\n",
        "        for chunk in stream:\n",
        "            if chunk.choices[0].delta.content is not None:\n",
        "                string = chunk.choices[0].delta.content\n",
        "                print(string, end=\"\")\n",
        "                result = ''.join([result, string])\n",
        "\n",
        "        self.messages.append({\"role\": \"system\", \"content\": result})"
      ],
      "metadata": {
        "id": "vvGKQJC7eIH0"
      },
      "execution_count": null,
      "outputs": []
    },
    {
      "cell_type": "code",
      "source": [
        "model = \"gpt-4o\"\n",
        "gpt = GptAPI(model, client)"
      ],
      "metadata": {
        "id": "hmyWoAz2d0P8"
      },
      "execution_count": null,
      "outputs": []
    },
    {
      "cell_type": "code",
      "source": [
        "text = '만나서 반가워!'\n",
        "\n",
        "gpt.get_message(text)"
      ],
      "metadata": {
        "colab": {
          "base_uri": "https://localhost:8080/"
        },
        "id": "plNl6sMoeQdD",
        "outputId": "b768b768-8cd1-4c1e-8851-58cbd95f6532"
      },
      "execution_count": null,
      "outputs": [
        {
          "output_type": "stream",
          "name": "stdout",
          "text": [
            "저도 만나서 반가워요! 어떻게 도와드릴까요?"
          ]
        }
      ]
    },
    {
      "cell_type": "code",
      "source": [
        "gpt.messages"
      ],
      "metadata": {
        "colab": {
          "base_uri": "https://localhost:8080/"
        },
        "id": "DxXQBhbTeY5D",
        "outputId": "fc0ee771-5f72-4104-ce49-2cf45eff59af"
      },
      "execution_count": null,
      "outputs": [
        {
          "output_type": "execute_result",
          "data": {
            "text/plain": [
              "[{'role': 'user', 'content': '만나서 반가워!'},\n",
              " {'role': 'system', 'content': '저도 만나서 반가워요! 어떻게 도와드릴까요?'}]"
            ]
          },
          "metadata": {},
          "execution_count": 9
        }
      ]
    },
    {
      "cell_type": "code",
      "source": [
        "text = '시각장애인을 위한 유튜브 추천 영상을 추천해서 링크를 같이 첨부해줘' # 질문을 입력하세요\n",
        "\n",
        "gpt.get_message(text)"
      ],
      "metadata": {
        "colab": {
          "base_uri": "https://localhost:8080/"
        },
        "id": "fQQgFJv0e0AL",
        "outputId": "3b52b5f2-d26d-4586-d5db-8e528f1dd8b9"
      },
      "execution_count": null,
      "outputs": [
        {
          "output_type": "stream",
          "name": "stdout",
          "text": [
            "시각장애인을 위한 유튜브 추천 영상을 몇 가지 소개해드리겠습니다. 이 영상들은 시각장애인을 위해 제작된 내용이므로 청각적으로 풍부한 설명과 내용을 제공합니다.\n",
            "\n",
            "1. **Skills for Blind and Visually Impaired**\n",
            "   - 영상에서는 시각장애인을 위한 유용한 기술과 도구를 소개합니다.\n",
            "   - [링크](https://www.youtube.com/watch?v=wKlplt9wY9E)\n",
            "\n",
            "2. **How Blind People Enjoy Cartoons, Series and Movies | Feat. Ryon Day**\n",
            "   - 시각장애인이 어떻게 엔터테인먼트를 즐기는지에 대한 이야기를 나눕니다.\n",
            "   - [링크](https://www.youtube.com/watch?v=gqTyy_5bGt0)\n",
            "\n",
            "3. **Living without Sight: An Insight into the Life of a Blind Person**\n",
            "   - 시각장애인의 일상을 깊이 있게 다루는 다큐멘터리 형식의 영상입니다.\n",
            "   - [링크](https://www.youtube.com/watch?v=dN6VSqMJqNs)\n",
            "\n",
            "4. **Visually Impaired Technology: Devices to Help the Visually Impaired | RNIB**\n",
            "   - 시각장애인을 위한 기술과 도구에 대해 설명하는 영상입니다.\n",
            "   - [링크](https://www.youtube.com/watch?v=CZKh8eyBzJA)\n",
            "\n",
            "위의 링크들이 시각장애인을 위한 정보를 제공하는데 있어 유용하길 바랍니다. 궁금한 점이 있으면 언제든지 말씀해 주세요!"
          ]
        }
      ]
    },
    {
      "cell_type": "code",
      "source": [],
      "metadata": {
        "id": "X_8Vvyf7uoq8"
      },
      "execution_count": null,
      "outputs": []
    }
  ]
}